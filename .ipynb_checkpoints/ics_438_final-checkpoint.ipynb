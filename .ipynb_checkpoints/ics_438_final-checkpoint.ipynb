{
 "cells": [
  {
   "cell_type": "code",
   "execution_count": 66,
   "id": "c8688425",
   "metadata": {},
   "outputs": [],
   "source": [
    "# ICS 438 Final Project:\n",
    "# Jerome Gallego, Taylor Wong, Ujjwal Gautam\n",
    "# December 13, 2022\n",
    "#\n",
    "# For this project we have decided to use a dataset made from yelp reviews. \n",
    "# Using the operation known as Sentiment Analysis, we can provide a detailed investigation on whether or not the star ratings\n",
    "# -can reflect how positive, negative, or neutral each review is.\n",
    "\n",
    "# In the yelp dataset, we will only be analyzing the star ratings and the reviews itself. Everything else can be considered irrelevant\n",
    "\n",
    "#For this notebook please install these packages to ensure that the file is running correctly\n",
    "#%pip install -U gensim\n",
    "#%pip install nltk\n",
    "\n",
    "\n",
    "# Import whatever libraries you would want to use\n",
    "# Clean up cells to put all imports to the top"
   ]
  },
  {
   "cell_type": "code",
   "execution_count": 190,
   "id": "151c0f68-a2c9-48f9-b9fc-d1078eb8dd94",
   "metadata": {},
   "outputs": [],
   "source": [
    "import pandas as pd\n",
    "import matplotlib.pyplot as plt\n",
    "import numpy as np\n",
    "\n",
    "# import gensim\n",
    "# from gensim.parsing.preprocessing import remove_stopwords\n",
    "# import re"
   ]
  },
  {
   "cell_type": "code",
   "execution_count": 191,
   "id": "37f3db4c-fdc6-453a-b103-99df5b07e244",
   "metadata": {},
   "outputs": [],
   "source": [
    "## Before we can do any kind of analysis we will need to load the dataset.\n",
    "# As instructed, we understand that loading a file into ram can seem inefficient,\n",
    "# to overcome this obstacle we have decided to process the data using the batching method that we have learned from Mahdi.\n",
    "\n",
    "## Process yelp.csv with chunk size of 50 and append it to the dataframe\n",
    "\n",
    "\n",
    "df = pd.DataFrame()\n",
    "with open('./data/yelp.csv', \"r+\") as csv_file:\n",
    "    tp = pd.read_csv(csv_file, iterator=True, chunksize=50)\n",
    "    df = pd.concat(tp, ignore_index=True) \n",
    "# df.shape\n",
    "# df.head()\n",
    "# df['type'].describe\n",
    "# df.info\n"
   ]
  },
  {
   "cell_type": "code",
   "execution_count": 192,
   "id": "97a62b7a-cef7-46e1-852b-b4fcd8d3c91f",
   "metadata": {},
   "outputs": [
    {
     "name": "stdout",
     "output_type": "stream",
     "text": [
      "['business_id', 'date', 'review_id', 'stars', 'text', 'type', 'user_id', 'cool', 'useful', 'funny']\n"
     ]
    },
    {
     "data": {
      "text/plain": [
       "'My wife took me here on my birthday for breakfast and it was excellent.  The weather was perfect which made sitting outside overlooking their grounds an absolute pleasure.  Our waitress was excellent and our food arrived quickly on the semi-busy Saturday morning.  It looked like the place fills up pretty quickly so the earlier you get here the better.\\n\\nDo yourself a favor and get their Bloody Mary.  It was phenomenal and simply the best I\\'ve ever had.  I\\'m pretty sure they only use ingredients from their garden and blend them fresh when you order it.  It was amazing.\\n\\nWhile EVERYTHING on the menu looks excellent, I had the white truffle scrambled eggs vegetable skillet and it was tasty and delicious.  It came with 2 pieces of their griddled bread with was amazing and it absolutely made the meal complete.  It was the best \"toast\" I\\'ve ever had.\\n\\nAnyway, I can\\'t wait to go back!'"
      ]
     },
     "execution_count": 192,
     "metadata": {},
     "output_type": "execute_result"
    }
   ],
   "source": [
    "columns = df.columns.values.tolist()\n",
    "print(columns)\n",
    "df['text'][0]"
   ]
  },
  {
   "cell_type": "code",
   "execution_count": 193,
   "id": "36cbf547-40c0-4bb1-858a-70acfe705243",
   "metadata": {},
   "outputs": [
    {
     "data": {
      "text/html": [
       "<div>\n",
       "<style scoped>\n",
       "    .dataframe tbody tr th:only-of-type {\n",
       "        vertical-align: middle;\n",
       "    }\n",
       "\n",
       "    .dataframe tbody tr th {\n",
       "        vertical-align: top;\n",
       "    }\n",
       "\n",
       "    .dataframe thead th {\n",
       "        text-align: right;\n",
       "    }\n",
       "</style>\n",
       "<table border=\"1\" class=\"dataframe\">\n",
       "  <thead>\n",
       "    <tr style=\"text-align: right;\">\n",
       "      <th></th>\n",
       "      <th>stars</th>\n",
       "      <th>text</th>\n",
       "    </tr>\n",
       "  </thead>\n",
       "  <tbody>\n",
       "    <tr>\n",
       "      <th>0</th>\n",
       "      <td>5</td>\n",
       "      <td>My wife took me here on my birthday for breakf...</td>\n",
       "    </tr>\n",
       "    <tr>\n",
       "      <th>1</th>\n",
       "      <td>5</td>\n",
       "      <td>I have no idea why some people give bad review...</td>\n",
       "    </tr>\n",
       "    <tr>\n",
       "      <th>2</th>\n",
       "      <td>4</td>\n",
       "      <td>love the gyro plate. Rice is so good and I als...</td>\n",
       "    </tr>\n",
       "    <tr>\n",
       "      <th>3</th>\n",
       "      <td>5</td>\n",
       "      <td>Rosie, Dakota, and I LOVE Chaparral Dog Park!!...</td>\n",
       "    </tr>\n",
       "    <tr>\n",
       "      <th>4</th>\n",
       "      <td>5</td>\n",
       "      <td>General Manager Scott Petello is a good egg!!!...</td>\n",
       "    </tr>\n",
       "    <tr>\n",
       "      <th>...</th>\n",
       "      <td>...</td>\n",
       "      <td>...</td>\n",
       "    </tr>\n",
       "    <tr>\n",
       "      <th>9995</th>\n",
       "      <td>3</td>\n",
       "      <td>First visit...Had lunch here today - used my G...</td>\n",
       "    </tr>\n",
       "    <tr>\n",
       "      <th>9996</th>\n",
       "      <td>4</td>\n",
       "      <td>Should be called house of deliciousness!\\n\\nI ...</td>\n",
       "    </tr>\n",
       "    <tr>\n",
       "      <th>9997</th>\n",
       "      <td>4</td>\n",
       "      <td>I recently visited Olive and Ivy for business ...</td>\n",
       "    </tr>\n",
       "    <tr>\n",
       "      <th>9998</th>\n",
       "      <td>2</td>\n",
       "      <td>My nephew just moved to Scottsdale recently so...</td>\n",
       "    </tr>\n",
       "    <tr>\n",
       "      <th>9999</th>\n",
       "      <td>5</td>\n",
       "      <td>4-5 locations.. all 4.5 star average.. I think...</td>\n",
       "    </tr>\n",
       "  </tbody>\n",
       "</table>\n",
       "<p>10000 rows × 2 columns</p>\n",
       "</div>"
      ],
      "text/plain": [
       "      stars                                               text\n",
       "0         5  My wife took me here on my birthday for breakf...\n",
       "1         5  I have no idea why some people give bad review...\n",
       "2         4  love the gyro plate. Rice is so good and I als...\n",
       "3         5  Rosie, Dakota, and I LOVE Chaparral Dog Park!!...\n",
       "4         5  General Manager Scott Petello is a good egg!!!...\n",
       "...     ...                                                ...\n",
       "9995      3  First visit...Had lunch here today - used my G...\n",
       "9996      4  Should be called house of deliciousness!\\n\\nI ...\n",
       "9997      4  I recently visited Olive and Ivy for business ...\n",
       "9998      2  My nephew just moved to Scottsdale recently so...\n",
       "9999      5  4-5 locations.. all 4.5 star average.. I think...\n",
       "\n",
       "[10000 rows x 2 columns]"
      ]
     },
     "execution_count": 193,
     "metadata": {},
     "output_type": "execute_result"
    }
   ],
   "source": [
    "## To ensure we have removed all the irrelevant columns, we used the function drop() which will tell\n",
    "## the dataframe to only include the stars and the text review. \n",
    "df.drop(labels=[\"business_id\", \"date\", \"type\", \"review_id\", \"user_id\", \"cool\", \"useful\", \"funny\"], axis=1, inplace=True)\n",
    "df"
   ]
  },
  {
   "cell_type": "code",
   "execution_count": 194,
   "id": "db326b83-c536-4e1b-95fd-64fe396c5d69",
   "metadata": {},
   "outputs": [
    {
     "name": "stderr",
     "output_type": "stream",
     "text": [
      "[nltk_data] Downloading package stopwords to /home/jovyan/nltk_data...\n",
      "[nltk_data]   Package stopwords is already up-to-date!\n"
     ]
    }
   ],
   "source": [
    "## Cleaning the data\n",
    "import nltk\n",
    "from nltk.corpus import stopwords\n",
    "nltk.download('stopwords')\n",
    "stop_words = set(stopwords.words('english'))\n",
    "import string\n",
    "def clean_data(data):\n",
    "    x = data.lower()\n",
    "    x = x.replace('\\n','')\n",
    "    table = str.maketrans(dict.fromkeys(string.punctuation)) \n",
    "    x = x.translate(table)\n",
    "    x = ' '.join([word for word in x.split(' ') if word not in stop_words])\n",
    "    return x"
   ]
  },
  {
   "cell_type": "code",
   "execution_count": 196,
   "id": "a2403df8-b33c-43fb-ad15-019d774dde6d",
   "metadata": {},
   "outputs": [
    {
     "data": {
      "text/html": [
       "<div>\n",
       "<style scoped>\n",
       "    .dataframe tbody tr th:only-of-type {\n",
       "        vertical-align: middle;\n",
       "    }\n",
       "\n",
       "    .dataframe tbody tr th {\n",
       "        vertical-align: top;\n",
       "    }\n",
       "\n",
       "    .dataframe thead th {\n",
       "        text-align: right;\n",
       "    }\n",
       "</style>\n",
       "<table border=\"1\" class=\"dataframe\">\n",
       "  <thead>\n",
       "    <tr style=\"text-align: right;\">\n",
       "      <th></th>\n",
       "      <th>stars</th>\n",
       "      <th>text</th>\n",
       "    </tr>\n",
       "  </thead>\n",
       "  <tbody>\n",
       "    <tr>\n",
       "      <th>0</th>\n",
       "      <td>5</td>\n",
       "      <td>wife took birthday breakfast excellent  weathe...</td>\n",
       "    </tr>\n",
       "    <tr>\n",
       "      <th>1</th>\n",
       "      <td>5</td>\n",
       "      <td>idea people give bad reviews place goes show p...</td>\n",
       "    </tr>\n",
       "    <tr>\n",
       "      <th>2</th>\n",
       "      <td>4</td>\n",
       "      <td>love gyro plate rice good also dig candy selec...</td>\n",
       "    </tr>\n",
       "    <tr>\n",
       "      <th>3</th>\n",
       "      <td>5</td>\n",
       "      <td>rosie dakota love chaparral dog park convenien...</td>\n",
       "    </tr>\n",
       "    <tr>\n",
       "      <th>4</th>\n",
       "      <td>5</td>\n",
       "      <td>general manager scott petello good egg go deta...</td>\n",
       "    </tr>\n",
       "    <tr>\n",
       "      <th>...</th>\n",
       "      <td>...</td>\n",
       "      <td>...</td>\n",
       "    </tr>\n",
       "    <tr>\n",
       "      <th>9995</th>\n",
       "      <td>3</td>\n",
       "      <td>first visithad lunch today  used groupon  orde...</td>\n",
       "    </tr>\n",
       "    <tr>\n",
       "      <th>9996</th>\n",
       "      <td>4</td>\n",
       "      <td>called house deliciousnessi could go item item...</td>\n",
       "    </tr>\n",
       "    <tr>\n",
       "      <th>9997</th>\n",
       "      <td>4</td>\n",
       "      <td>recently visited olive ivy business last week ...</td>\n",
       "    </tr>\n",
       "    <tr>\n",
       "      <th>9998</th>\n",
       "      <td>2</td>\n",
       "      <td>nephew moved scottsdale recently bunch friends...</td>\n",
       "    </tr>\n",
       "    <tr>\n",
       "      <th>9999</th>\n",
       "      <td>5</td>\n",
       "      <td>45 locations 45 star average think arizona rea...</td>\n",
       "    </tr>\n",
       "  </tbody>\n",
       "</table>\n",
       "<p>10000 rows × 2 columns</p>\n",
       "</div>"
      ],
      "text/plain": [
       "      stars                                               text\n",
       "0         5  wife took birthday breakfast excellent  weathe...\n",
       "1         5  idea people give bad reviews place goes show p...\n",
       "2         4  love gyro plate rice good also dig candy selec...\n",
       "3         5  rosie dakota love chaparral dog park convenien...\n",
       "4         5  general manager scott petello good egg go deta...\n",
       "...     ...                                                ...\n",
       "9995      3  first visithad lunch today  used groupon  orde...\n",
       "9996      4  called house deliciousnessi could go item item...\n",
       "9997      4  recently visited olive ivy business last week ...\n",
       "9998      2  nephew moved scottsdale recently bunch friends...\n",
       "9999      5  45 locations 45 star average think arizona rea...\n",
       "\n",
       "[10000 rows x 2 columns]"
      ]
     },
     "execution_count": 196,
     "metadata": {},
     "output_type": "execute_result"
    }
   ],
   "source": [
    "##apply clean_data function to the df[\"text\"] column to remove punctuations, new lines, and stop words\n",
    "df[\"text\"] = df[\"text\"].apply(clean_data)\n",
    "df"
   ]
  },
  {
   "cell_type": "code",
   "execution_count": 15,
   "id": "ab3a00e6-94e7-494d-b839-5f27544b5679",
   "metadata": {},
   "outputs": [],
   "source": [
    "# As you can see there are 10000 entries in the file. By using Pandas Dataframe, it is good to know that we will not be able to\n",
    "# -completely store all the data in RAM. With that being said to make it seem more realistic, we will cut down the dataframe\n",
    "# -to have only 1000 randomly selected reviews. \n",
    "# Again, in some situations that can be too much for a machine to handle. To prevent any crashes or errors, we will be\n",
    "# -batching the reviews in a set of 50 at a time.\n",
    "# Thanks to the help of Assignment 2, we understand how to batch a set."
   ]
  },
  {
   "cell_type": "code",
   "execution_count": 197,
   "id": "b6818bb0-a4cf-452a-bf12-277f10be05c4",
   "metadata": {},
   "outputs": [],
   "source": [
    "# # Using sample() will randomly select 1000 reviews for analysis\n",
    "# df = df.sample(n=1000)\n",
    "# df"
   ]
  },
  {
   "cell_type": "code",
   "execution_count": 17,
   "id": "22fe0c54-cc4d-4f02-97f1-61b91f8dc75d",
   "metadata": {},
   "outputs": [],
   "source": [
    "# After we have cleaned the data to remove any sort of stop words and characters, we can start to implement the Sentiment Analysis.\n",
    "# The main goal for this is produce a score from 0 to 1 whether it is categorized as Positive, Negative, or Neutral."
   ]
  },
  {
   "cell_type": "markdown",
   "id": "47714df8-c1bd-4e93-993b-c048864f9f55",
   "metadata": {},
   "source": [
    "### Vader lexicon\n",
    "Vader lexicon is a rule-based sentiment analysis tool specifically made for social media sentiment. For a more in-depth documentation please refer to their GitHub: https://github.com/cjhutto/vaderSentiment\n",
    "\n",
    "### Why we chose vader lexicon\n",
    "We decided to go with vader lexicon since the way vader lexicon was designed is meant for review analysis. On their GitHub page, examples of the training data used include 'The service here is extremely good', and 'The service here is good'. "
   ]
  },
  {
   "cell_type": "code",
   "execution_count": 198,
   "id": "e9d2282c-cdd7-4f2e-9b89-c93b0fd00e0c",
   "metadata": {},
   "outputs": [
    {
     "name": "stderr",
     "output_type": "stream",
     "text": [
      "[nltk_data] Downloading package vader_lexicon to\n",
      "[nltk_data]     /home/jovyan/nltk_data...\n",
      "[nltk_data]   Package vader_lexicon is already up-to-date!\n"
     ]
    },
    {
     "data": {
      "text/html": [
       "<div>\n",
       "<style scoped>\n",
       "    .dataframe tbody tr th:only-of-type {\n",
       "        vertical-align: middle;\n",
       "    }\n",
       "\n",
       "    .dataframe tbody tr th {\n",
       "        vertical-align: top;\n",
       "    }\n",
       "\n",
       "    .dataframe thead th {\n",
       "        text-align: right;\n",
       "    }\n",
       "</style>\n",
       "<table border=\"1\" class=\"dataframe\">\n",
       "  <thead>\n",
       "    <tr style=\"text-align: right;\">\n",
       "      <th></th>\n",
       "      <th>stars</th>\n",
       "      <th>text</th>\n",
       "      <th>Sentiment</th>\n",
       "      <th>neg</th>\n",
       "      <th>neu</th>\n",
       "      <th>pos</th>\n",
       "      <th>compound</th>\n",
       "    </tr>\n",
       "  </thead>\n",
       "  <tbody>\n",
       "    <tr>\n",
       "      <th>0</th>\n",
       "      <td>5</td>\n",
       "      <td>wife took birthday breakfast excellent  weathe...</td>\n",
       "      <td>positive</td>\n",
       "      <td>0.025</td>\n",
       "      <td>0.545</td>\n",
       "      <td>0.431</td>\n",
       "      <td>0.9935</td>\n",
       "    </tr>\n",
       "    <tr>\n",
       "      <th>1</th>\n",
       "      <td>5</td>\n",
       "      <td>idea people give bad reviews place goes show p...</td>\n",
       "      <td>positive</td>\n",
       "      <td>0.072</td>\n",
       "      <td>0.595</td>\n",
       "      <td>0.332</td>\n",
       "      <td>0.9901</td>\n",
       "    </tr>\n",
       "    <tr>\n",
       "      <th>2</th>\n",
       "      <td>4</td>\n",
       "      <td>love gyro plate rice good also dig candy selec...</td>\n",
       "      <td>positive</td>\n",
       "      <td>0.000</td>\n",
       "      <td>0.496</td>\n",
       "      <td>0.504</td>\n",
       "      <td>0.7964</td>\n",
       "    </tr>\n",
       "    <tr>\n",
       "      <th>3</th>\n",
       "      <td>5</td>\n",
       "      <td>rosie dakota love chaparral dog park convenien...</td>\n",
       "      <td>positive</td>\n",
       "      <td>0.000</td>\n",
       "      <td>0.713</td>\n",
       "      <td>0.287</td>\n",
       "      <td>0.9360</td>\n",
       "    </tr>\n",
       "    <tr>\n",
       "      <th>4</th>\n",
       "      <td>5</td>\n",
       "      <td>general manager scott petello good egg go deta...</td>\n",
       "      <td>positive</td>\n",
       "      <td>0.090</td>\n",
       "      <td>0.554</td>\n",
       "      <td>0.355</td>\n",
       "      <td>0.9304</td>\n",
       "    </tr>\n",
       "    <tr>\n",
       "      <th>...</th>\n",
       "      <td>...</td>\n",
       "      <td>...</td>\n",
       "      <td>...</td>\n",
       "      <td>...</td>\n",
       "      <td>...</td>\n",
       "      <td>...</td>\n",
       "      <td>...</td>\n",
       "    </tr>\n",
       "    <tr>\n",
       "      <th>9995</th>\n",
       "      <td>3</td>\n",
       "      <td>first visithad lunch today  used groupon  orde...</td>\n",
       "      <td>positive</td>\n",
       "      <td>0.000</td>\n",
       "      <td>0.794</td>\n",
       "      <td>0.206</td>\n",
       "      <td>0.9062</td>\n",
       "    </tr>\n",
       "    <tr>\n",
       "      <th>9996</th>\n",
       "      <td>4</td>\n",
       "      <td>called house deliciousnessi could go item item...</td>\n",
       "      <td>positive</td>\n",
       "      <td>0.150</td>\n",
       "      <td>0.498</td>\n",
       "      <td>0.352</td>\n",
       "      <td>0.9810</td>\n",
       "    </tr>\n",
       "    <tr>\n",
       "      <th>9997</th>\n",
       "      <td>4</td>\n",
       "      <td>recently visited olive ivy business last week ...</td>\n",
       "      <td>positive</td>\n",
       "      <td>0.055</td>\n",
       "      <td>0.639</td>\n",
       "      <td>0.307</td>\n",
       "      <td>0.9919</td>\n",
       "    </tr>\n",
       "    <tr>\n",
       "      <th>9998</th>\n",
       "      <td>2</td>\n",
       "      <td>nephew moved scottsdale recently bunch friends...</td>\n",
       "      <td>negative</td>\n",
       "      <td>0.236</td>\n",
       "      <td>0.663</td>\n",
       "      <td>0.101</td>\n",
       "      <td>-0.9186</td>\n",
       "    </tr>\n",
       "    <tr>\n",
       "      <th>9999</th>\n",
       "      <td>5</td>\n",
       "      <td>45 locations 45 star average think arizona rea...</td>\n",
       "      <td>positive</td>\n",
       "      <td>0.000</td>\n",
       "      <td>0.694</td>\n",
       "      <td>0.306</td>\n",
       "      <td>0.9524</td>\n",
       "    </tr>\n",
       "  </tbody>\n",
       "</table>\n",
       "<p>10000 rows × 7 columns</p>\n",
       "</div>"
      ],
      "text/plain": [
       "      stars                                               text Sentiment  \\\n",
       "0         5  wife took birthday breakfast excellent  weathe...  positive   \n",
       "1         5  idea people give bad reviews place goes show p...  positive   \n",
       "2         4  love gyro plate rice good also dig candy selec...  positive   \n",
       "3         5  rosie dakota love chaparral dog park convenien...  positive   \n",
       "4         5  general manager scott petello good egg go deta...  positive   \n",
       "...     ...                                                ...       ...   \n",
       "9995      3  first visithad lunch today  used groupon  orde...  positive   \n",
       "9996      4  called house deliciousnessi could go item item...  positive   \n",
       "9997      4  recently visited olive ivy business last week ...  positive   \n",
       "9998      2  nephew moved scottsdale recently bunch friends...  negative   \n",
       "9999      5  45 locations 45 star average think arizona rea...  positive   \n",
       "\n",
       "        neg    neu    pos  compound  \n",
       "0     0.025  0.545  0.431    0.9935  \n",
       "1     0.072  0.595  0.332    0.9901  \n",
       "2     0.000  0.496  0.504    0.7964  \n",
       "3     0.000  0.713  0.287    0.9360  \n",
       "4     0.090  0.554  0.355    0.9304  \n",
       "...     ...    ...    ...       ...  \n",
       "9995  0.000  0.794  0.206    0.9062  \n",
       "9996  0.150  0.498  0.352    0.9810  \n",
       "9997  0.055  0.639  0.307    0.9919  \n",
       "9998  0.236  0.663  0.101   -0.9186  \n",
       "9999  0.000  0.694  0.306    0.9524  \n",
       "\n",
       "[10000 rows x 7 columns]"
      ]
     },
     "execution_count": 198,
     "metadata": {},
     "output_type": "execute_result"
    }
   ],
   "source": [
    "nltk.download('vader_lexicon') #WE NEED TO EXPLAIN WHAT THIS IS\n",
    "from nltk.sentiment.vader import SentimentIntensityAnalyzer #WE NEED TO EXPLAIN WHAT THIS IS ALSO\n",
    "\n",
    "for index, row in df['text'].iteritems():\n",
    "    result = SentimentIntensityAnalyzer().polarity_scores(row)\n",
    "    # if index%50 == 0:\n",
    "    if result['neg'] > result['pos']:\n",
    "        df.loc[index, \"Sentiment\"] = \"negative\"\n",
    "    elif result['pos'] > result['neg']:\n",
    "        df.loc[index, \"Sentiment\"] = \"positive\"\n",
    "    else:\n",
    "        df.loc[index, \"Sentiment\"] = \"neutral\"\n",
    "        \n",
    "    df.loc[index, 'neg'] = result['neg']\n",
    "    df.loc[index, 'neu'] = result['neu']\n",
    "    df.loc[index, 'pos'] = result['pos']\n",
    "    df.loc[index, 'compound'] = result['compound']\n",
    "df"
   ]
  },
  {
   "cell_type": "code",
   "execution_count": 199,
   "id": "8b65d356-9f90-4672-9e21-c0c684cdb638",
   "metadata": {},
   "outputs": [
    {
     "data": {
      "text/html": [
       "<div>\n",
       "<style scoped>\n",
       "    .dataframe tbody tr th:only-of-type {\n",
       "        vertical-align: middle;\n",
       "    }\n",
       "\n",
       "    .dataframe tbody tr th {\n",
       "        vertical-align: top;\n",
       "    }\n",
       "\n",
       "    .dataframe thead th {\n",
       "        text-align: right;\n",
       "    }\n",
       "</style>\n",
       "<table border=\"1\" class=\"dataframe\">\n",
       "  <thead>\n",
       "    <tr style=\"text-align: right;\">\n",
       "      <th></th>\n",
       "      <th>stars</th>\n",
       "      <th>text</th>\n",
       "      <th>Sentiment</th>\n",
       "      <th>neg</th>\n",
       "      <th>neu</th>\n",
       "      <th>pos</th>\n",
       "      <th>compound</th>\n",
       "    </tr>\n",
       "  </thead>\n",
       "  <tbody>\n",
       "    <tr>\n",
       "      <th>15</th>\n",
       "      <td>2</td>\n",
       "      <td>worth 21 salad small pizza absolutely bad serv...</td>\n",
       "      <td>negative</td>\n",
       "      <td>0.242</td>\n",
       "      <td>0.617</td>\n",
       "      <td>0.141</td>\n",
       "      <td>-0.8712</td>\n",
       "    </tr>\n",
       "    <tr>\n",
       "      <th>23</th>\n",
       "      <td>1</td>\n",
       "      <td>u go n check car u wanna buy 1 thats wrong mov...</td>\n",
       "      <td>negative</td>\n",
       "      <td>0.281</td>\n",
       "      <td>0.632</td>\n",
       "      <td>0.087</td>\n",
       "      <td>-0.9376</td>\n",
       "    </tr>\n",
       "    <tr>\n",
       "      <th>31</th>\n",
       "      <td>1</td>\n",
       "      <td>disgusting  groupon daughter tried  outdated g...</td>\n",
       "      <td>positive</td>\n",
       "      <td>0.148</td>\n",
       "      <td>0.473</td>\n",
       "      <td>0.378</td>\n",
       "      <td>0.8658</td>\n",
       "    </tr>\n",
       "    <tr>\n",
       "      <th>35</th>\n",
       "      <td>1</td>\n",
       "      <td>ive eaten many times none bad last nightservic...</td>\n",
       "      <td>positive</td>\n",
       "      <td>0.044</td>\n",
       "      <td>0.794</td>\n",
       "      <td>0.162</td>\n",
       "      <td>0.9445</td>\n",
       "    </tr>\n",
       "    <tr>\n",
       "      <th>56</th>\n",
       "      <td>2</td>\n",
       "      <td>add andrews reviewi cant believe things happen...</td>\n",
       "      <td>positive</td>\n",
       "      <td>0.095</td>\n",
       "      <td>0.736</td>\n",
       "      <td>0.169</td>\n",
       "      <td>0.9444</td>\n",
       "    </tr>\n",
       "    <tr>\n",
       "      <th>...</th>\n",
       "      <td>...</td>\n",
       "      <td>...</td>\n",
       "      <td>...</td>\n",
       "      <td>...</td>\n",
       "      <td>...</td>\n",
       "      <td>...</td>\n",
       "      <td>...</td>\n",
       "    </tr>\n",
       "    <tr>\n",
       "      <th>9954</th>\n",
       "      <td>2</td>\n",
       "      <td>stopped lunch bff todaynowhere park forced val...</td>\n",
       "      <td>positive</td>\n",
       "      <td>0.079</td>\n",
       "      <td>0.667</td>\n",
       "      <td>0.254</td>\n",
       "      <td>0.9917</td>\n",
       "    </tr>\n",
       "    <tr>\n",
       "      <th>9974</th>\n",
       "      <td>2</td>\n",
       "      <td>cowboy ciao best restaurant scottsdale cafe ca...</td>\n",
       "      <td>negative</td>\n",
       "      <td>0.256</td>\n",
       "      <td>0.573</td>\n",
       "      <td>0.172</td>\n",
       "      <td>-0.6108</td>\n",
       "    </tr>\n",
       "    <tr>\n",
       "      <th>9984</th>\n",
       "      <td>1</td>\n",
       "      <td>went last night whore foods get basics make pi...</td>\n",
       "      <td>negative</td>\n",
       "      <td>0.271</td>\n",
       "      <td>0.588</td>\n",
       "      <td>0.142</td>\n",
       "      <td>-0.9822</td>\n",
       "    </tr>\n",
       "    <tr>\n",
       "      <th>9987</th>\n",
       "      <td>1</td>\n",
       "      <td>food delicious  service  discriminatory  barte...</td>\n",
       "      <td>positive</td>\n",
       "      <td>0.112</td>\n",
       "      <td>0.730</td>\n",
       "      <td>0.159</td>\n",
       "      <td>0.2732</td>\n",
       "    </tr>\n",
       "    <tr>\n",
       "      <th>9998</th>\n",
       "      <td>2</td>\n",
       "      <td>nephew moved scottsdale recently bunch friends...</td>\n",
       "      <td>negative</td>\n",
       "      <td>0.236</td>\n",
       "      <td>0.663</td>\n",
       "      <td>0.101</td>\n",
       "      <td>-0.9186</td>\n",
       "    </tr>\n",
       "  </tbody>\n",
       "</table>\n",
       "<p>1676 rows × 7 columns</p>\n",
       "</div>"
      ],
      "text/plain": [
       "      stars                                               text Sentiment  \\\n",
       "15        2  worth 21 salad small pizza absolutely bad serv...  negative   \n",
       "23        1  u go n check car u wanna buy 1 thats wrong mov...  negative   \n",
       "31        1  disgusting  groupon daughter tried  outdated g...  positive   \n",
       "35        1  ive eaten many times none bad last nightservic...  positive   \n",
       "56        2  add andrews reviewi cant believe things happen...  positive   \n",
       "...     ...                                                ...       ...   \n",
       "9954      2  stopped lunch bff todaynowhere park forced val...  positive   \n",
       "9974      2  cowboy ciao best restaurant scottsdale cafe ca...  negative   \n",
       "9984      1  went last night whore foods get basics make pi...  negative   \n",
       "9987      1  food delicious  service  discriminatory  barte...  positive   \n",
       "9998      2  nephew moved scottsdale recently bunch friends...  negative   \n",
       "\n",
       "        neg    neu    pos  compound  \n",
       "15    0.242  0.617  0.141   -0.8712  \n",
       "23    0.281  0.632  0.087   -0.9376  \n",
       "31    0.148  0.473  0.378    0.8658  \n",
       "35    0.044  0.794  0.162    0.9445  \n",
       "56    0.095  0.736  0.169    0.9444  \n",
       "...     ...    ...    ...       ...  \n",
       "9954  0.079  0.667  0.254    0.9917  \n",
       "9974  0.256  0.573  0.172   -0.6108  \n",
       "9984  0.271  0.588  0.142   -0.9822  \n",
       "9987  0.112  0.730  0.159    0.2732  \n",
       "9998  0.236  0.663  0.101   -0.9186  \n",
       "\n",
       "[1676 rows x 7 columns]"
      ]
     },
     "execution_count": 199,
     "metadata": {},
     "output_type": "execute_result"
    }
   ],
   "source": [
    "low_rate = df[(df['stars'] == 1) | (df['stars'] == 2)]\n",
    "low_rate"
   ]
  },
  {
   "cell_type": "code",
   "execution_count": 200,
   "id": "a01fd28e-24c4-453f-8893-787dadb1cc29",
   "metadata": {},
   "outputs": [
    {
     "data": {
      "image/png": "[encoded data removed]",
      "text/plain": [
       "<Figure size 640x480 with 1 Axes>"
      ]
     },
     "metadata": {},
     "output_type": "display_data"
    }
   ],
   "source": [
    "# bar chart showing total spread of sentiment\n",
    "low_key = low_rate['Sentiment'].value_counts().keys().tolist()\n",
    "low_val = low_rate['Sentiment'].value_counts().tolist()\n",
    "\n",
    "fig = plt.bar(low_key, low_val, color='r')"
   ]
  },
  {
   "cell_type": "code",
   "execution_count": 201,
   "id": "9f0406e4-80be-4ffd-8abf-2233a098bdd9",
   "metadata": {},
   "outputs": [
    {
     "data": {
      "text/plain": [
       "([<matplotlib.patches.Wedge at 0x7fc0ff90abc0>,\n",
       "  <matplotlib.patches.Wedge at 0x7fc0ff908cd0>,\n",
       "  <matplotlib.patches.Wedge at 0x7fc0ff90ba00>],\n",
       " [Text(-0.5688442005726855, 0.9414968271188292, 'positive'),\n",
       "  Text(0.5058450042125421, -0.9767910890836451, 'negative'),\n",
       "  Text(1.0976297456762705, -0.07217299638123642, 'neutral')],\n",
       " [Text(-0.3102786548578284, 0.5135437238829976, '67.30%'),\n",
       "  Text(0.27591545684320473, -0.53279513950017, '30.61%'),\n",
       "  Text(0.5987071340052385, -0.03936708893521986, '2.09%')])"
      ]
     },
     "execution_count": 201,
     "metadata": {},
     "output_type": "execute_result"
    },
    {
     "data": {
      "image/png": "[encoded data removed]",
      "text/plain": [
       "<Figure size 640x480 with 1 Axes>"
      ]
     },
     "metadata": {},
     "output_type": "display_data"
    }
   ],
   "source": [
    "# normalize values to get %\n",
    "norm_Lval = low_rate['Sentiment'].value_counts(normalize=True).tolist()\n",
    "norm_Lvals = [i * 100 for i in norm_Lval]\n",
    "for ind, i in enumerate(norm_Lvals):\n",
    "    norm_Lvals[ind] = round(norm_Lvals[ind],2)\n",
    "plt.pie(norm_Lvals, labels=low_key, autopct='%1.2f%%')"
   ]
  },
  {
   "cell_type": "code",
   "execution_count": 202,
   "id": "0560299f-9403-4fcc-a284-fd23ac92452f",
   "metadata": {},
   "outputs": [
    {
     "data": {
      "text/html": [
       "<div>\n",
       "<style scoped>\n",
       "    .dataframe tbody tr th:only-of-type {\n",
       "        vertical-align: middle;\n",
       "    }\n",
       "\n",
       "    .dataframe tbody tr th {\n",
       "        vertical-align: top;\n",
       "    }\n",
       "\n",
       "    .dataframe thead th {\n",
       "        text-align: right;\n",
       "    }\n",
       "</style>\n",
       "<table border=\"1\" class=\"dataframe\">\n",
       "  <thead>\n",
       "    <tr style=\"text-align: right;\">\n",
       "      <th></th>\n",
       "      <th>stars</th>\n",
       "      <th>text</th>\n",
       "      <th>Sentiment</th>\n",
       "      <th>neg</th>\n",
       "      <th>neu</th>\n",
       "      <th>pos</th>\n",
       "      <th>compound</th>\n",
       "    </tr>\n",
       "  </thead>\n",
       "  <tbody>\n",
       "    <tr>\n",
       "      <th>0</th>\n",
       "      <td>5</td>\n",
       "      <td>wife took birthday breakfast excellent  weathe...</td>\n",
       "      <td>positive</td>\n",
       "      <td>0.025</td>\n",
       "      <td>0.545</td>\n",
       "      <td>0.431</td>\n",
       "      <td>0.9935</td>\n",
       "    </tr>\n",
       "    <tr>\n",
       "      <th>1</th>\n",
       "      <td>5</td>\n",
       "      <td>idea people give bad reviews place goes show p...</td>\n",
       "      <td>positive</td>\n",
       "      <td>0.072</td>\n",
       "      <td>0.595</td>\n",
       "      <td>0.332</td>\n",
       "      <td>0.9901</td>\n",
       "    </tr>\n",
       "    <tr>\n",
       "      <th>2</th>\n",
       "      <td>4</td>\n",
       "      <td>love gyro plate rice good also dig candy selec...</td>\n",
       "      <td>positive</td>\n",
       "      <td>0.000</td>\n",
       "      <td>0.496</td>\n",
       "      <td>0.504</td>\n",
       "      <td>0.7964</td>\n",
       "    </tr>\n",
       "    <tr>\n",
       "      <th>3</th>\n",
       "      <td>5</td>\n",
       "      <td>rosie dakota love chaparral dog park convenien...</td>\n",
       "      <td>positive</td>\n",
       "      <td>0.000</td>\n",
       "      <td>0.713</td>\n",
       "      <td>0.287</td>\n",
       "      <td>0.9360</td>\n",
       "    </tr>\n",
       "    <tr>\n",
       "      <th>4</th>\n",
       "      <td>5</td>\n",
       "      <td>general manager scott petello good egg go deta...</td>\n",
       "      <td>positive</td>\n",
       "      <td>0.090</td>\n",
       "      <td>0.554</td>\n",
       "      <td>0.355</td>\n",
       "      <td>0.9304</td>\n",
       "    </tr>\n",
       "    <tr>\n",
       "      <th>...</th>\n",
       "      <td>...</td>\n",
       "      <td>...</td>\n",
       "      <td>...</td>\n",
       "      <td>...</td>\n",
       "      <td>...</td>\n",
       "      <td>...</td>\n",
       "      <td>...</td>\n",
       "    </tr>\n",
       "    <tr>\n",
       "      <th>9993</th>\n",
       "      <td>4</td>\n",
       "      <td>judging reviews maybe went good days ive enjoy...</td>\n",
       "      <td>positive</td>\n",
       "      <td>0.000</td>\n",
       "      <td>0.625</td>\n",
       "      <td>0.375</td>\n",
       "      <td>0.9638</td>\n",
       "    </tr>\n",
       "    <tr>\n",
       "      <th>9994</th>\n",
       "      <td>5</td>\n",
       "      <td>lets seewhat like surprise stadium well 950 ta...</td>\n",
       "      <td>positive</td>\n",
       "      <td>0.036</td>\n",
       "      <td>0.706</td>\n",
       "      <td>0.258</td>\n",
       "      <td>0.9946</td>\n",
       "    </tr>\n",
       "    <tr>\n",
       "      <th>9996</th>\n",
       "      <td>4</td>\n",
       "      <td>called house deliciousnessi could go item item...</td>\n",
       "      <td>positive</td>\n",
       "      <td>0.150</td>\n",
       "      <td>0.498</td>\n",
       "      <td>0.352</td>\n",
       "      <td>0.9810</td>\n",
       "    </tr>\n",
       "    <tr>\n",
       "      <th>9997</th>\n",
       "      <td>4</td>\n",
       "      <td>recently visited olive ivy business last week ...</td>\n",
       "      <td>positive</td>\n",
       "      <td>0.055</td>\n",
       "      <td>0.639</td>\n",
       "      <td>0.307</td>\n",
       "      <td>0.9919</td>\n",
       "    </tr>\n",
       "    <tr>\n",
       "      <th>9999</th>\n",
       "      <td>5</td>\n",
       "      <td>45 locations 45 star average think arizona rea...</td>\n",
       "      <td>positive</td>\n",
       "      <td>0.000</td>\n",
       "      <td>0.694</td>\n",
       "      <td>0.306</td>\n",
       "      <td>0.9524</td>\n",
       "    </tr>\n",
       "  </tbody>\n",
       "</table>\n",
       "<p>6863 rows × 7 columns</p>\n",
       "</div>"
      ],
      "text/plain": [
       "      stars                                               text Sentiment  \\\n",
       "0         5  wife took birthday breakfast excellent  weathe...  positive   \n",
       "1         5  idea people give bad reviews place goes show p...  positive   \n",
       "2         4  love gyro plate rice good also dig candy selec...  positive   \n",
       "3         5  rosie dakota love chaparral dog park convenien...  positive   \n",
       "4         5  general manager scott petello good egg go deta...  positive   \n",
       "...     ...                                                ...       ...   \n",
       "9993      4  judging reviews maybe went good days ive enjoy...  positive   \n",
       "9994      5  lets seewhat like surprise stadium well 950 ta...  positive   \n",
       "9996      4  called house deliciousnessi could go item item...  positive   \n",
       "9997      4  recently visited olive ivy business last week ...  positive   \n",
       "9999      5  45 locations 45 star average think arizona rea...  positive   \n",
       "\n",
       "        neg    neu    pos  compound  \n",
       "0     0.025  0.545  0.431    0.9935  \n",
       "1     0.072  0.595  0.332    0.9901  \n",
       "2     0.000  0.496  0.504    0.7964  \n",
       "3     0.000  0.713  0.287    0.9360  \n",
       "4     0.090  0.554  0.355    0.9304  \n",
       "...     ...    ...    ...       ...  \n",
       "9993  0.000  0.625  0.375    0.9638  \n",
       "9994  0.036  0.706  0.258    0.9946  \n",
       "9996  0.150  0.498  0.352    0.9810  \n",
       "9997  0.055  0.639  0.307    0.9919  \n",
       "9999  0.000  0.694  0.306    0.9524  \n",
       "\n",
       "[6863 rows x 7 columns]"
      ]
     },
     "execution_count": 202,
     "metadata": {},
     "output_type": "execute_result"
    }
   ],
   "source": [
    "high_rate = df[(df['stars'] == 4) | (df['stars'] == 5)]\n",
    "high_rate"
   ]
  },
  {
   "cell_type": "code",
   "execution_count": 203,
   "id": "1a606a4a-abef-4a5f-8268-ada8b3f47b1c",
   "metadata": {},
   "outputs": [
    {
     "data": {
      "image/png": "[encoded data removed]",
      "text/plain": [
       "<Figure size 640x480 with 1 Axes>"
      ]
     },
     "metadata": {},
     "output_type": "display_data"
    }
   ],
   "source": [
    "# bar chart showing total spread of sentiment\n",
    "high_key = high_rate['Sentiment'].value_counts().keys().tolist()\n",
    "high_val = high_rate['Sentiment'].value_counts().tolist()\n",
    "\n",
    "fig = plt.bar(high_key, high_val, color='b')"
   ]
  },
  {
   "cell_type": "code",
   "execution_count": 204,
   "id": "3358a24c-d8be-48d2-ad8e-6af1ad505b98",
   "metadata": {},
   "outputs": [
    {
     "data": {
      "text/plain": [
       "([<matplotlib.patches.Wedge at 0x7fc1009f7e50>,\n",
       "  <matplotlib.patches.Wedge at 0x7fc1009f48e0>,\n",
       "  <matplotlib.patches.Wedge at 0x7fc1009f7910>],\n",
       " [Text(-1.0954064953007396, 0.10042215917291718, 'positive'),\n",
       "  Text(1.0929334338343943, -0.12448497582825038, 'negative'),\n",
       "  Text(1.09973403406442, -0.02418789615484223, 'neutral')],\n",
       " [Text(-0.5974944519822216, 0.05477572318522755, '97.09%'),\n",
       "  Text(0.596145509364215, -0.06790089590631838, '2.21%'),\n",
       "  Text(0.5998549276715017, -0.013193397902641214, '0.70%')])"
      ]
     },
     "execution_count": 204,
     "metadata": {},
     "output_type": "execute_result"
    },
    {
     "data": {
      "image/png": "[encoded data removed]",
      "text/plain": [
       "<Figure size 640x480 with 1 Axes>"
      ]
     },
     "metadata": {},
     "output_type": "display_data"
    }
   ],
   "source": [
    "# normalize values to get %\n",
    "norm_bval = high_rate['Sentiment'].value_counts(normalize=True).tolist()\n",
    "norm_bvals = [i * 100 for i in norm_bval]\n",
    "for ind, i in enumerate(norm_bvals):\n",
    "    norm_bvals[ind] = round(norm_bvals[ind],2)\n",
    "plt.pie(norm_bvals, labels=high_key, autopct='%1.2f%%')"
   ]
  },
  {
   "cell_type": "code",
   "execution_count": 205,
   "id": "0a6d299e-cd0f-4ded-b370-31dc64d21d7b",
   "metadata": {},
   "outputs": [
    {
     "data": {
      "text/html": [
       "<div>\n",
       "<style scoped>\n",
       "    .dataframe tbody tr th:only-of-type {\n",
       "        vertical-align: middle;\n",
       "    }\n",
       "\n",
       "    .dataframe tbody tr th {\n",
       "        vertical-align: top;\n",
       "    }\n",
       "\n",
       "    .dataframe thead th {\n",
       "        text-align: right;\n",
       "    }\n",
       "</style>\n",
       "<table border=\"1\" class=\"dataframe\">\n",
       "  <thead>\n",
       "    <tr style=\"text-align: right;\">\n",
       "      <th></th>\n",
       "      <th>stars</th>\n",
       "      <th>text</th>\n",
       "      <th>Sentiment</th>\n",
       "      <th>neg</th>\n",
       "      <th>neu</th>\n",
       "      <th>pos</th>\n",
       "      <th>compound</th>\n",
       "    </tr>\n",
       "  </thead>\n",
       "  <tbody>\n",
       "    <tr>\n",
       "      <th>16</th>\n",
       "      <td>3</td>\n",
       "      <td>went saturday afternoon place incredibly empty...</td>\n",
       "      <td>negative</td>\n",
       "      <td>0.157</td>\n",
       "      <td>0.708</td>\n",
       "      <td>0.134</td>\n",
       "      <td>-0.4185</td>\n",
       "    </tr>\n",
       "    <tr>\n",
       "      <th>18</th>\n",
       "      <td>3</td>\n",
       "      <td>met friend lunch yesterday loved water feature...</td>\n",
       "      <td>positive</td>\n",
       "      <td>0.014</td>\n",
       "      <td>0.646</td>\n",
       "      <td>0.339</td>\n",
       "      <td>0.9904</td>\n",
       "    </tr>\n",
       "    <tr>\n",
       "      <th>20</th>\n",
       "      <td>3</td>\n",
       "      <td>dvapyou go least life really neat place alot h...</td>\n",
       "      <td>positive</td>\n",
       "      <td>0.031</td>\n",
       "      <td>0.722</td>\n",
       "      <td>0.246</td>\n",
       "      <td>0.9348</td>\n",
       "    </tr>\n",
       "    <tr>\n",
       "      <th>34</th>\n",
       "      <td>3</td>\n",
       "      <td>theres two ways look place one getting quality...</td>\n",
       "      <td>positive</td>\n",
       "      <td>0.144</td>\n",
       "      <td>0.710</td>\n",
       "      <td>0.146</td>\n",
       "      <td>0.0464</td>\n",
       "    </tr>\n",
       "    <tr>\n",
       "      <th>45</th>\n",
       "      <td>3</td>\n",
       "      <td>everything nice ice cream delicious overwhelmi...</td>\n",
       "      <td>positive</td>\n",
       "      <td>0.183</td>\n",
       "      <td>0.387</td>\n",
       "      <td>0.430</td>\n",
       "      <td>0.8225</td>\n",
       "    </tr>\n",
       "    <tr>\n",
       "      <th>...</th>\n",
       "      <td>...</td>\n",
       "      <td>...</td>\n",
       "      <td>...</td>\n",
       "      <td>...</td>\n",
       "      <td>...</td>\n",
       "      <td>...</td>\n",
       "      <td>...</td>\n",
       "    </tr>\n",
       "    <tr>\n",
       "      <th>9967</th>\n",
       "      <td>3</td>\n",
       "      <td>thought reviewed location already  weird  one ...</td>\n",
       "      <td>positive</td>\n",
       "      <td>0.123</td>\n",
       "      <td>0.659</td>\n",
       "      <td>0.218</td>\n",
       "      <td>0.6369</td>\n",
       "    </tr>\n",
       "    <tr>\n",
       "      <th>9968</th>\n",
       "      <td>3</td>\n",
       "      <td>never didnt know expect  every time heard name...</td>\n",
       "      <td>positive</td>\n",
       "      <td>0.066</td>\n",
       "      <td>0.745</td>\n",
       "      <td>0.189</td>\n",
       "      <td>0.9675</td>\n",
       "    </tr>\n",
       "    <tr>\n",
       "      <th>9976</th>\n",
       "      <td>3</td>\n",
       "      <td>looking chile rellenos place great job making ...</td>\n",
       "      <td>positive</td>\n",
       "      <td>0.050</td>\n",
       "      <td>0.692</td>\n",
       "      <td>0.258</td>\n",
       "      <td>0.8720</td>\n",
       "    </tr>\n",
       "    <tr>\n",
       "      <th>9983</th>\n",
       "      <td>3</td>\n",
       "      <td>35 stars decided check place waves space decor...</td>\n",
       "      <td>positive</td>\n",
       "      <td>0.102</td>\n",
       "      <td>0.574</td>\n",
       "      <td>0.324</td>\n",
       "      <td>0.9765</td>\n",
       "    </tr>\n",
       "    <tr>\n",
       "      <th>9995</th>\n",
       "      <td>3</td>\n",
       "      <td>first visithad lunch today  used groupon  orde...</td>\n",
       "      <td>positive</td>\n",
       "      <td>0.000</td>\n",
       "      <td>0.794</td>\n",
       "      <td>0.206</td>\n",
       "      <td>0.9062</td>\n",
       "    </tr>\n",
       "  </tbody>\n",
       "</table>\n",
       "<p>1461 rows × 7 columns</p>\n",
       "</div>"
      ],
      "text/plain": [
       "      stars                                               text Sentiment  \\\n",
       "16        3  went saturday afternoon place incredibly empty...  negative   \n",
       "18        3  met friend lunch yesterday loved water feature...  positive   \n",
       "20        3  dvapyou go least life really neat place alot h...  positive   \n",
       "34        3  theres two ways look place one getting quality...  positive   \n",
       "45        3  everything nice ice cream delicious overwhelmi...  positive   \n",
       "...     ...                                                ...       ...   \n",
       "9967      3  thought reviewed location already  weird  one ...  positive   \n",
       "9968      3  never didnt know expect  every time heard name...  positive   \n",
       "9976      3  looking chile rellenos place great job making ...  positive   \n",
       "9983      3  35 stars decided check place waves space decor...  positive   \n",
       "9995      3  first visithad lunch today  used groupon  orde...  positive   \n",
       "\n",
       "        neg    neu    pos  compound  \n",
       "16    0.157  0.708  0.134   -0.4185  \n",
       "18    0.014  0.646  0.339    0.9904  \n",
       "20    0.031  0.722  0.246    0.9348  \n",
       "34    0.144  0.710  0.146    0.0464  \n",
       "45    0.183  0.387  0.430    0.8225  \n",
       "...     ...    ...    ...       ...  \n",
       "9967  0.123  0.659  0.218    0.6369  \n",
       "9968  0.066  0.745  0.189    0.9675  \n",
       "9976  0.050  0.692  0.258    0.8720  \n",
       "9983  0.102  0.574  0.324    0.9765  \n",
       "9995  0.000  0.794  0.206    0.9062  \n",
       "\n",
       "[1461 rows x 7 columns]"
      ]
     },
     "execution_count": 205,
     "metadata": {},
     "output_type": "execute_result"
    }
   ],
   "source": [
    "neutral = df[(df['stars'] == 3)]\n",
    "neutral"
   ]
  },
  {
   "cell_type": "code",
   "execution_count": 206,
   "id": "e145d60f-0a46-4ed7-b347-1362f09b75a8",
   "metadata": {},
   "outputs": [
    {
     "data": {
      "image/png": "[encoded data removed]",
      "text/plain": [
       "<Figure size 640x480 with 1 Axes>"
      ]
     },
     "metadata": {},
     "output_type": "display_data"
    }
   ],
   "source": [
    "# bar chart showing total spread of sentiment\n",
    "neu_key = neutral['Sentiment'].value_counts().keys().tolist()\n",
    "neu_val = neutral['Sentiment'].value_counts().tolist()\n",
    "\n",
    "fig = plt.bar(neu_key, neu_val, color='g')"
   ]
  },
  {
   "cell_type": "code",
   "execution_count": 207,
   "id": "39b349c5-bed7-4fb0-8b81-5ddfb77baf64",
   "metadata": {},
   "outputs": [
    {
     "data": {
      "text/plain": [
       "([<matplotlib.patches.Wedge at 0x7fc1018c8b80>,\n",
       "  <matplotlib.patches.Wedge at 0x7fc1018c92a0>,\n",
       "  <matplotlib.patches.Wedge at 0x7fc1018c99c0>],\n",
       " [Text(-1.0560332674883537, 0.30788591711520535, 'positive'),\n",
       "  Text(1.0433506075432801, -0.34845302371922166, 'negative'),\n",
       "  Text(1.099178833517677, -0.04249578739968418, 'neutral')],\n",
       " [Text(-0.5760181459027384, 0.16793777297193016, '90.97%'),\n",
       "  Text(0.5691003313872436, -0.19006528566502998, '7.80%'),\n",
       "  Text(0.5995520910096419, -0.023179520399827735, '1.23%')])"
      ]
     },
     "execution_count": 207,
     "metadata": {},
     "output_type": "execute_result"
    },
    {
     "data": {
      "image/png": "[encoded data removed]",
      "text/plain": [
       "<Figure size 640x480 with 1 Axes>"
      ]
     },
     "metadata": {},
     "output_type": "display_data"
    }
   ],
   "source": [
    "# normalize values to get %\n",
    "norm_nval = neutral['Sentiment'].value_counts(normalize=True).tolist()\n",
    "norm_nvals = [i * 100 for i in norm_nval]\n",
    "for ind, i in enumerate(norm_nvals):\n",
    "    norm_nvals[ind] = round(norm_nvals[ind],2)\n",
    "plt.pie(norm_nvals, labels=neu_key, autopct='%1.2f%%')"
   ]
  },
  {
   "cell_type": "markdown",
   "id": "d32cd1ad-6fac-48c2-ad27-f2bd0417f885",
   "metadata": {},
   "source": [
    "## Part-2\n",
    "   In this part of the project, we're using sentiment analysis of the user review to predict the ratings or stars they would give based on the review. We're using a train_test_split function provided by the scikit library to split the dataset into training and testing sets. We train our machine learning model with the training datasets and predict the result of the test dataset using the model.  "
   ]
  },
  {
   "cell_type": "markdown",
   "id": "8569191a-c866-4a5d-b644-0b50570bca99",
   "metadata": {},
   "source": [
    "### Displaying the percentage distribution of stars in the dataset"
   ]
  },
  {
   "cell_type": "code",
   "execution_count": 208,
   "id": "b728abce-b872-46ed-895a-fd6ef2f7ae94",
   "metadata": {},
   "outputs": [
    {
     "data": {
      "image/png": "[encoded data removed]",
      "text/plain": [
       "<Figure size 640x480 with 1 Axes>"
      ]
     },
     "metadata": {},
     "output_type": "display_data"
    }
   ],
   "source": [
    "import matplotlib.pyplot as plt\n",
    "round(df.stars.value_counts(normalize=True)*100,2).plot(kind='bar')\n",
    "plt.title('Percentage Distributions of stars')\n",
    "plt.show()"
   ]
  },
  {
   "cell_type": "markdown",
   "id": "abd71f59-c859-4047-b7cc-b4ad0d2e86a1",
   "metadata": {},
   "source": [
    "- As seen above our dataset contains a large number of 4 and 5 stars ratings.\n",
    "\n",
    "## train_test_split\n",
    "- we split the data into training and testing sets using train_test_split function"
   ]
  },
  {
   "cell_type": "code",
   "execution_count": 209,
   "id": "c17f5946-d54c-483a-b98b-1a03fd8c7cc3",
   "metadata": {},
   "outputs": [
    {
     "name": "stdout",
     "output_type": "stream",
     "text": [
      "Total number of train and test data\n",
      "independent_train : 9000\n",
      "independent_test  : 1000\n",
      "dependent_train : 9000\n",
      "dependent_test  : 1000\n"
     ]
    }
   ],
   "source": [
    "from sklearn.model_selection import train_test_split\n",
    "\n",
    "independent_var = df.text\n",
    "dependent_var = df.stars\n",
    "\n",
    "IV_train, IV_test, DV_train, DV_test = train_test_split(independent_var, dependent_var, test_size = 0.1, random_state = 225)\n",
    "\n",
    "print('Total number of train and test data')\n",
    "print('independent_train :', len(IV_train))\n",
    "print('independent_test  :', len(IV_test))\n",
    "print('dependent_train :', len(DV_train))\n",
    "print('dependent_test  :', len(DV_test))"
   ]
  },
  {
   "cell_type": "markdown",
   "id": "28beb824-f932-4e44-9520-e9bae3703367",
   "metadata": {},
   "source": [
    "- We usedTfidfVectorizer class in the scikit-learn library to convert a collection of text reviews into a matrix of TF-IDF features. \n",
    "- We used logistic regression, a machine learning algorithm, to classify our reviews by training the model with the training dataset and predicting the outcome of the test datasets. "
   ]
  },
  {
   "cell_type": "code",
   "execution_count": 212,
   "id": "8e5d9de8-78ef-438d-b728-e471867fa634",
   "metadata": {},
   "outputs": [],
   "source": [
    "from sklearn.feature_extraction.text import TfidfVectorizer\n",
    "from sklearn.linear_model import LogisticRegression\n",
    "\n",
    "tvec = TfidfVectorizer()\n",
    "clf2 = LogisticRegression(solver = \"lbfgs\", max_iter=1000)\n"
   ]
  },
  {
   "cell_type": "markdown",
   "id": "5d9331c6-dc14-47d2-aa4a-8ff728e42f09",
   "metadata": {},
   "source": [
    "- We use Pipeline to preprocess, classify, and model our dataset"
   ]
  },
  {
   "cell_type": "code",
   "execution_count": 213,
   "id": "c6b2f397-1c5f-48d8-ba4d-405ae4b609d8",
   "metadata": {},
   "outputs": [
    {
     "data": {
      "text/plain": [
       "array([[ 31,  14,   2,   3,   0],\n",
       "       [ 11,  15,   7,   3,   3],\n",
       "       [ 10,  18,  31,  14,   1],\n",
       "       [ 15,  27,  77, 221, 101],\n",
       "       [  7,  13,  25, 128, 223]])"
      ]
     },
     "execution_count": 213,
     "metadata": {},
     "output_type": "execute_result"
    }
   ],
   "source": [
    "from sklearn.pipeline import Pipeline\n",
    "from sklearn.metrics import confusion_matrix\n",
    "model = Pipeline([('vectorizer',tvec),('classifier',clf2)])\n",
    "\n",
    "model.fit(IV_train, DV_train)\n",
    "predictions = model.predict(IV_test)\n",
    "\n",
    "confusion_matrix(predictions, DV_test)"
   ]
  },
  {
   "cell_type": "markdown",
   "id": "1b19611d-c911-4241-8911-4471a12f8205",
   "metadata": {},
   "source": [
    "- The below model predicts the stars that the user would give based on the review"
   ]
  },
  {
   "cell_type": "code",
   "execution_count": 220,
   "id": "fd9c064c-f606-49e1-bf70-5b9af94117e8",
   "metadata": {},
   "outputs": [
    {
     "name": "stdout",
     "output_type": "stream",
     "text": [
      "[3]\n"
     ]
    }
   ],
   "source": [
    "# example = [\"Extra bed was the worst breakfast queue was really terrible\"]\n",
    "# example =[\"excellent service, everything was perfect\"]\n",
    "# example =[\"Worst service, I'm unhappy\"]\n",
    "example =[\"The place was alright but it could've been better\"]\n",
    "result = model.predict(example)\n",
    "\n",
    "print(result)"
   ]
  },
  {
   "cell_type": "markdown",
   "id": "f3f4aebf-771f-4589-aeea-a93b9017c357",
   "metadata": {},
   "source": [
    "- Below is the accuracy, precision, and recall score of our model."
   ]
  },
  {
   "cell_type": "code",
   "execution_count": 221,
   "id": "5f98740c-a7c7-4b37-b3cb-0d566775d36e",
   "metadata": {},
   "outputs": [
    {
     "name": "stdout",
     "output_type": "stream",
     "text": [
      "Accuracy :  0.521\n",
      "Precision :  0.5771786719910306\n",
      "Recall :  0.521\n"
     ]
    }
   ],
   "source": [
    "from sklearn.metrics import accuracy_score, precision_score, recall_score\n",
    "\n",
    "print(\"Accuracy : \", accuracy_score(predictions, DV_test))\n",
    "print(\"Precision : \", precision_score(predictions, DV_test, average = 'weighted'))\n",
    "print(\"Recall : \", recall_score(predictions, DV_test, average = 'weighted'))"
   ]
  }
 ],
 "metadata": {
  "kernelspec": {
   "display_name": "Python 3 (ipykernel)",
   "language": "python",
   "name": "python3"
  },
  "language_info": {
   "codemirror_mode": {
    "name": "ipython",
    "version": 3
   },
   "file_extension": ".py",
   "mimetype": "text/x-python",
   "name": "python",
   "nbconvert_exporter": "python",
   "pygments_lexer": "ipython3",
   "version": "3.10.6"
  },
  "vscode": {
   "interpreter": {
    "hash": "c261aea317cc0286b3b3261fbba9abdec21eaa57589985bb7a274bf54d6cc0a7"
   }
  }
 },
 "nbformat": 4,
 "nbformat_minor": 5
}
