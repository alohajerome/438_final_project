{
 "cells": [
  {
   "cell_type": "code",
   "execution_count": 22,
   "id": "c8688425",
   "metadata": {},
   "outputs": [],
   "source": [
    "# This is where we will be working on this project\n",
    "# %pip install bs4\n",
    "# %pip install lxml\n",
    "# %pip install -U sentence-transformers\n",
    "\n",
    "\n",
    "\n",
    "# Import whatever libraries you would want to use"
   ]
  },
  {
   "cell_type": "code",
   "execution_count": 2,
   "id": "151c0f68-a2c9-48f9-b9fc-d1078eb8dd94",
   "metadata": {},
   "outputs": [],
   "source": [
    "import pandas as pd\n",
    "# import matplotlib.pyplot as plt\n",
    "import numpy as np\n",
    "# import re"
   ]
  },
  {
   "cell_type": "code",
   "execution_count": 23,
   "id": "37f3db4c-fdc6-453a-b103-99df5b07e244",
   "metadata": {},
   "outputs": [],
   "source": [
    "## Process yelp.csv with chunk size of 50 and append it to the dataframe\n",
    "\n",
    "df = pd.DataFrame()\n",
    "with open('./data/yelp.csv', \"r+\") as csv_file:\n",
    "    tp = pd.read_csv(csv_file, iterator=True, chunksize=50)\n",
    "    df = pd.concat(tp, ignore_index=True) \n",
    "# df.shape\n",
    "# df.head()\n",
    "# df['type'].describe\n",
    "# df.info\n"
   ]
  },
  {
   "cell_type": "code",
   "execution_count": 25,
   "id": "97a62b7a-cef7-46e1-852b-b4fcd8d3c91f",
   "metadata": {},
   "outputs": [
    {
     "name": "stdout",
     "output_type": "stream",
     "text": [
      "['business_id', 'date', 'review_id', 'stars', 'text', 'type', 'user_id', 'cool', 'useful', 'funny']\n"
     ]
    },
    {
     "data": {
      "text/plain": [
       "'My wife took me here on my birthday for breakfast and it was excellent.  The weather was perfect which made sitting outside overlooking their grounds an absolute pleasure.  Our waitress was excellent and our food arrived quickly on the semi-busy Saturday morning.  It looked like the place fills up pretty quickly so the earlier you get here the better.\\n\\nDo yourself a favor and get their Bloody Mary.  It was phenomenal and simply the best I\\'ve ever had.  I\\'m pretty sure they only use ingredients from their garden and blend them fresh when you order it.  It was amazing.\\n\\nWhile EVERYTHING on the menu looks excellent, I had the white truffle scrambled eggs vegetable skillet and it was tasty and delicious.  It came with 2 pieces of their griddled bread with was amazing and it absolutely made the meal complete.  It was the best \"toast\" I\\'ve ever had.\\n\\nAnyway, I can\\'t wait to go back!'"
      ]
     },
     "execution_count": 25,
     "metadata": {},
     "output_type": "execute_result"
    }
   ],
   "source": [
    "columns = df.columns.values.tolist()\n",
    "print(columns)\n",
    "df['text'][0]"
   ]
  }
 ],
 "metadata": {
  "kernelspec": {
   "display_name": "Python 3 (ipykernel)",
   "language": "python",
   "name": "python3"
  },
  "language_info": {
   "codemirror_mode": {
    "name": "ipython",
    "version": 3
   },
   "file_extension": ".py",
   "mimetype": "text/x-python",
   "name": "python",
   "nbconvert_exporter": "python",
   "pygments_lexer": "ipython3",
   "version": "3.10.6"
  }
 },
 "nbformat": 4,
 "nbformat_minor": 5
}
