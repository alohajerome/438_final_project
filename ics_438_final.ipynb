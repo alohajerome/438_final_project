{
 "cells": [
  {
   "cell_type": "code",
   "execution_count": null,
   "id": "c8688425",
   "metadata": {},
   "outputs": [],
   "source": [
    "# This is where we will be working on this project\n",
    "# %pip install bs4\n",
    "# %pip install lxml\n",
    "# %pip install -U sentence-transformers\n",
    "\n",
    "# Import whatever libraries you would want to use"
   ]
  }
 ],
 "metadata": {
  "kernelspec": {
   "display_name": "Python 3 (ipykernel)",
   "language": "python",
   "name": "python3"
  },
  "language_info": {
   "codemirror_mode": {
    "name": "ipython",
    "version": 3
   },
   "file_extension": ".py",
   "mimetype": "text/x-python",
   "name": "python",
   "nbconvert_exporter": "python",
   "pygments_lexer": "ipython3",
   "version": "3.9.12"
  }
 },
 "nbformat": 4,
 "nbformat_minor": 5
}
